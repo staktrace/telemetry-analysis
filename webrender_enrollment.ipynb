{
 "cells": [
  {
   "cell_type": "code",
   "execution_count": 1,
   "metadata": {
    "scrolled": true
   },
   "outputs": [],
   "source": [
    "import ujson as json\n",
    "import matplotlib.pyplot as plt\n",
    "import pandas as pd\n",
    "import numpy as np\n",
    "\n",
    "from moztelemetry.dataset import Dataset\n",
    "\n",
    "%matplotlib inline"
   ]
  },
  {
   "cell_type": "code",
   "execution_count": 2,
   "metadata": {},
   "outputs": [
    {
     "data": {
      "text/plain": [
       "32"
      ]
     },
     "execution_count": 2,
     "metadata": {},
     "output_type": "execute_result"
    }
   ],
   "source": [
    "sc.defaultParallelism"
   ]
  },
  {
   "cell_type": "markdown",
   "metadata": {},
   "source": [
    "We can look at the schema of the dataset we are interested in:"
   ]
  },
  {
   "cell_type": "code",
   "execution_count": 3,
   "metadata": {},
   "outputs": [
    {
     "data": {
      "text/plain": [
       "[u'submissionDate',\n",
       " u'sourceName',\n",
       " u'sourceVersion',\n",
       " u'docType',\n",
       " u'appName',\n",
       " u'appUpdateChannel',\n",
       " u'appVersion',\n",
       " u'appBuildId']"
      ]
     },
     "execution_count": 3,
     "metadata": {},
     "output_type": "execute_result"
    }
   ],
   "source": [
    "Dataset.from_source('telemetry').schema"
   ]
  },
  {
   "cell_type": "markdown",
   "metadata": {},
   "source": [
    "Let's create a Dataset of Telemetry submissions for a given submission date:"
   ]
  },
  {
   "cell_type": "code",
   "execution_count": 4,
   "metadata": {},
   "outputs": [],
   "source": [
    "pings_dataset = (\n",
    "    Dataset.from_source('telemetry')\n",
    "    .where(docType='main')\n",
    "    .where(submissionDate=lambda x: int(x) == 20181020)\n",
    "    .where(appUpdateChannel=\"nightly\")\n",
    ")"
   ]
  },
  {
   "cell_type": "markdown",
   "metadata": {},
   "source": [
    "Grab all the samples, but only properties that will be interesting to correlate (in particular we omit 'payload')."
   ]
  },
  {
   "cell_type": "code",
   "execution_count": 5,
   "metadata": {
    "scrolled": true
   },
   "outputs": [
    {
     "name": "stdout",
     "output_type": "stream",
     "text": [
      "fetching 6159.86539MB in 21560 files...\n"
     ]
    }
   ],
   "source": [
    "pings = (\n",
    "    pings_dataset\n",
    "    .select(environment='environment',\n",
    "            application='application',\n",
    "            clientId='clientId',\n",
    "            meta='meta')\n",
    "    .records(sc, sample=1.0)\n",
    ")"
   ]
  },
  {
   "cell_type": "markdown",
   "metadata": {},
   "source": [
    "Filter to the experiment disabled branch"
   ]
  },
  {
   "cell_type": "code",
   "execution_count": 6,
   "metadata": {},
   "outputs": [],
   "source": [
    "exp_pings = (\n",
    "    pings.filter(lambda p: \"experiments\" in p[\"environment\"])\n",
    "         .filter(lambda p: \"prefflip-webrender-v1-2-1492568\" in p[\"environment\"][\"experiments\"])\n",
    "         .filter(lambda p: p[\"environment\"][\"experiments\"][\"prefflip-webrender-v1-2-1492568\"][\"branch\"] == \"disabled\")\n",
    ")"
   ]
  },
  {
   "cell_type": "markdown",
   "metadata": {},
   "source": [
    "Filter with missing pref"
   ]
  },
  {
   "cell_type": "code",
   "execution_count": null,
   "metadata": {},
   "outputs": [],
   "source": [
    "missing_pref = (\n",
    "    exp_pings.filter(lambda p: \"gfx.webrender.all.qualified\" not in p[\"environment\"][\"settings\"][\"userPrefs\"])\n",
    ")\n",
    "cached = missing_pref.cache()\n",
    "cached.count()"
   ]
  },
  {
   "cell_type": "markdown",
   "metadata": {},
   "source": [
    "Inspect one"
   ]
  },
  {
   "cell_type": "code",
   "execution_count": null,
   "metadata": {},
   "outputs": [],
   "source": [
    "inspect = cached.take(1)\n",
    "inspect"
   ]
  },
  {
   "cell_type": "code",
   "execution_count": null,
   "metadata": {},
   "outputs": [],
   "source": [
    "def interesting_prop(ping):\n",
    "    return ping[\"environment\"][\"system\"][\"gfx\"][\"features\"][\"compositor\"]\n",
    "\n",
    "cached.map(interesting_prop).countByValue()\n"
   ]
  },
  {
   "cell_type": "markdown",
   "metadata": {},
   "source": [
    "Just some fiddling..."
   ]
  },
  {
   "cell_type": "code",
   "execution_count": 7,
   "metadata": {},
   "outputs": [
    {
     "data": {
      "text/plain": [
       "6347"
      ]
     },
     "execution_count": 7,
     "metadata": {},
     "output_type": "execute_result"
    }
   ],
   "source": [
    "have_pref = (\n",
    "    exp_pings.filter(lambda p: \"gfx.webrender.all.qualified\" in p[\"environment\"][\"settings\"][\"userPrefs\"])\n",
    ")\n",
    "have_cached = have_pref.cache()\n",
    "have_cached.count()"
   ]
  },
  {
   "cell_type": "code",
   "execution_count": 11,
   "metadata": {},
   "outputs": [
    {
     "data": {
      "text/plain": [
       "[{'application': {u'architecture': u'x86-64',\n",
       "   u'buildId': u'20181004224156',\n",
       "   u'channel': u'nightly',\n",
       "   u'displayVersion': u'64.0a1',\n",
       "   u'name': u'Firefox',\n",
       "   u'platformVersion': u'64.0a1',\n",
       "   u'vendor': u'Mozilla',\n",
       "   u'version': u'64.0a1',\n",
       "   u'xpcomAbi': u'x86_64-msvc'},\n",
       "  'clientId': u'2491447e-fb44-4c1b-b922-08228b622d32',\n",
       "  'environment': {u'addons': {u'activeAddons': {u'adbhelper@mozilla.org': {u'appDisabled': False,\n",
       "      u'blocklisted': False,\n",
       "      u'description': u'An add-on to ease connecting to Firefox for Android.',\n",
       "      u'foreignInstall': False,\n",
       "      u'hasBinaryComponents': False,\n",
       "      u'installDay': 17395,\n",
       "      u'isSystem': False,\n",
       "      u'isWebExtension': False,\n",
       "      u'multiprocessCompatible': True,\n",
       "      u'name': u'ADB Helper',\n",
       "      u'scope': 1,\n",
       "      u'signedState': 4,\n",
       "      u'type': u'extension',\n",
       "      u'updateDay': 17752,\n",
       "      u'userDisabled': False,\n",
       "      u'version': u'0.12.1'},\n",
       "     u'firefox@getpocket.com': {u'appDisabled': False,\n",
       "      u'blocklisted': False,\n",
       "      u'description': u'When you find something you want to view later, put it in Pocket.',\n",
       "      u'foreignInstall': False,\n",
       "      u'hasBinaryComponents': False,\n",
       "      u'installDay': 17037,\n",
       "      u'isSystem': True,\n",
       "      u'isWebExtension': False,\n",
       "      u'multiprocessCompatible': True,\n",
       "      u'name': u'Pocket',\n",
       "      u'scope': 1,\n",
       "      u'type': u'extension',\n",
       "      u'updateDay': 17823,\n",
       "      u'userDisabled': False,\n",
       "      u'version': u'1.0.5'},\n",
       "     u'firefox@mega.co.nz': {u'appDisabled': False,\n",
       "      u'blocklisted': False,\n",
       "      u'description': u'Secure Cloud Storage and Chat',\n",
       "      u'foreignInstall': False,\n",
       "      u'hasBinaryComponents': False,\n",
       "      u'installDay': 17268,\n",
       "      u'isSystem': False,\n",
       "      u'isWebExtension': True,\n",
       "      u'multiprocessCompatible': True,\n",
       "      u'name': u'MEGA',\n",
       "      u'scope': 1,\n",
       "      u'signedState': 2,\n",
       "      u'type': u'extension',\n",
       "      u'updateDay': 17823,\n",
       "      u'userDisabled': False,\n",
       "      u'version': u'3.43.9'},\n",
       "     u'formautofill@mozilla.org': {u'appDisabled': False,\n",
       "      u'blocklisted': False,\n",
       "      u'description': None,\n",
       "      u'foreignInstall': False,\n",
       "      u'hasBinaryComponents': False,\n",
       "      u'installDay': 17284,\n",
       "      u'isSystem': True,\n",
       "      u'isWebExtension': True,\n",
       "      u'multiprocessCompatible': True,\n",
       "      u'name': u'Form Autofill',\n",
       "      u'scope': 1,\n",
       "      u'type': u'extension',\n",
       "      u'updateDay': 17823,\n",
       "      u'userDisabled': False,\n",
       "      u'version': u'1.0'},\n",
       "     u'jid1-93CWPmRbVPjRQA@jetpack': {u'appDisabled': False,\n",
       "      u'blocklisted': False,\n",
       "      u'description': u'Automatically find and apply coupon codes when you shop online!',\n",
       "      u'foreignInstall': False,\n",
       "      u'hasBinaryComponents': False,\n",
       "      u'installDay': 17747,\n",
       "      u'isSystem': False,\n",
       "      u'isWebExtension': True,\n",
       "      u'multiprocessCompatible': True,\n",
       "      u'name': u'Honey',\n",
       "      u'scope': 1,\n",
       "      u'signedState': 2,\n",
       "      u'type': u'extension',\n",
       "      u'updateDay': 17816,\n",
       "      u'userDisabled': False,\n",
       "      u'version': u'10.7.14'},\n",
       "     u'jid1-xUfzOsOFlzSOXg@jetpack': {u'appDisabled': False,\n",
       "      u'blocklisted': False,\n",
       "      u'description': u'A suite of modules that enhance your Reddit browsing experience',\n",
       "      u'foreignInstall': False,\n",
       "      u'hasBinaryComponents': False,\n",
       "      u'installDay': 17284,\n",
       "      u'isSystem': False,\n",
       "      u'isWebExtension': True,\n",
       "      u'multiprocessCompatible': True,\n",
       "      u'name': u'Reddit Enhancement Suite',\n",
       "      u'scope': 1,\n",
       "      u'signedState': 2,\n",
       "      u'type': u'extension',\n",
       "      u'updateDay': 17797,\n",
       "      u'userDisabled': False,\n",
       "      u'version': u'5.12.6'},\n",
       "     u'onboarding@mozilla.org': {u'appDisabled': False,\n",
       "      u'blocklisted': False,\n",
       "      u'description': u'Photon onboarding',\n",
       "      u'foreignInstall': False,\n",
       "      u'hasBinaryComponents': False,\n",
       "      u'installDay': 17406,\n",
       "      u'isSystem': True,\n",
       "      u'isWebExtension': False,\n",
       "      u'multiprocessCompatible': True,\n",
       "      u'name': u'Photon onboarding',\n",
       "      u'scope': 1,\n",
       "      u'type': u'extension',\n",
       "      u'updateDay': 17823,\n",
       "      u'userDisabled': False,\n",
       "      u'version': u'1.0'},\n",
       "     u'screenshots@mozilla.org': {u'appDisabled': False,\n",
       "      u'blocklisted': False,\n",
       "      u'description': None,\n",
       "      u'foreignInstall': False,\n",
       "      u'hasBinaryComponents': False,\n",
       "      u'installDay': 17284,\n",
       "      u'isSystem': True,\n",
       "      u'isWebExtension': False,\n",
       "      u'multiprocessCompatible': True,\n",
       "      u'name': u'Firefox Screenshots',\n",
       "      u'scope': 1,\n",
       "      u'type': u'extension',\n",
       "      u'updateDay': 17823,\n",
       "      u'userDisabled': False,\n",
       "      u'version': u'33.0.0'},\n",
       "     u'uBlock0@raymondhill.net': {u'appDisabled': False,\n",
       "      u'blocklisted': False,\n",
       "      u'description': u'Finally, an efficient blocker. Easy on CPU and memory.',\n",
       "      u'foreignInstall': False,\n",
       "      u'hasBinaryComponents': False,\n",
       "      u'installDay': 17407,\n",
       "      u'isSystem': False,\n",
       "      u'isWebExtension': True,\n",
       "      u'multiprocessCompatible': True,\n",
       "      u'name': u'uBlock Origin',\n",
       "      u'scope': 1,\n",
       "      u'signedState': 2,\n",
       "      u'type': u'extension',\n",
       "      u'updateDay': 17823,\n",
       "      u'userDisabled': False,\n",
       "      u'version': u'1.17.2'},\n",
       "     u'webcompat-reporter@mozilla.org': {u'appDisabled': False,\n",
       "      u'blocklisted': False,\n",
       "      u'description': u'Report site compatibility issues on webcompat.com.',\n",
       "      u'foreignInstall': False,\n",
       "      u'hasBinaryComponents': False,\n",
       "      u'installDay': 17284,\n",
       "      u'isSystem': True,\n",
       "      u'isWebExtension': False,\n",
       "      u'multiprocessCompatible': True,\n",
       "      u'name': u'WebCompat Reporter',\n",
       "      u'scope': 1,\n",
       "      u'type': u'extension',\n",
       "      u'updateDay': 17823,\n",
       "      u'userDisabled': False,\n",
       "      u'version': u'1.0.0'},\n",
       "     u'webcompat@mozilla.org': {u'appDisabled': False,\n",
       "      u'blocklisted': False,\n",
       "      u'description': u'Urgent post-release fixes for web compatibility.',\n",
       "      u'foreignInstall': False,\n",
       "      u'hasBinaryComponents': False,\n",
       "      u'installDay': 17075,\n",
       "      u'isSystem': True,\n",
       "      u'isWebExtension': False,\n",
       "      u'multiprocessCompatible': True,\n",
       "      u'name': u'Web Compat',\n",
       "      u'scope': 1,\n",
       "      u'type': u'extension',\n",
       "      u'updateDay': 17823,\n",
       "      u'userDisabled': False,\n",
       "      u'version': u'2.0.1'},\n",
       "     u'{d10d0bf8-f5b5-c8b4-a8b2-2b9879e08c5d}': {u'appDisabled': False,\n",
       "      u'blocklisted': False,\n",
       "      u'description': u\"With over 500 million downloads, Adblock Plus is one of the world's most popular ad blockers.\",\n",
       "      u'foreignInstall': False,\n",
       "      u'hasBinaryComponents': False,\n",
       "      u'installDay': 17082,\n",
       "      u'isSystem': False,\n",
       "      u'isWebExtension': True,\n",
       "      u'multiprocessCompatible': True,\n",
       "      u'name': u'Adblock Plus',\n",
       "      u'scope': 1,\n",
       "      u'signedState': 2,\n",
       "      u'type': u'extension',\n",
       "      u'updateDay': 17774,\n",
       "      u'userDisabled': False,\n",
       "      u'version': u'3.3.1'}},\n",
       "    u'activeGMPlugins': {u'gmp-gmpopenh264': {u'applyBackgroundUpdates': 1,\n",
       "      u'userDisabled': False,\n",
       "      u'version': u'1.7.1'},\n",
       "     u'gmp-widevinecdm': {u'applyBackgroundUpdates': 1,\n",
       "      u'userDisabled': False,\n",
       "      u'version': u'4.10.1146.0'}},\n",
       "    u'activePlugins': [{u'blocklisted': False,\n",
       "      u'clicktoplay': True,\n",
       "      u'description': u'Shockwave Flash 31.0 r0',\n",
       "      u'disabled': False,\n",
       "      u'mimeTypes': [u'application/x-shockwave-flash',\n",
       "       u'application/futuresplash'],\n",
       "      u'name': u'Shockwave Flash',\n",
       "      u'updateDay': 17814,\n",
       "      u'version': u'31.0.0.122'}],\n",
       "    u'persona': u'default-theme@mozilla.org',\n",
       "    u'theme': {u'appDisabled': False,\n",
       "     u'blocklisted': False,\n",
       "     u'description': u'The default theme.',\n",
       "     u'foreignInstall': False,\n",
       "     u'hasBinaryComponents': False,\n",
       "     u'id': u'default-theme@mozilla.org',\n",
       "     u'installDay': 0,\n",
       "     u'name': u'Default',\n",
       "     u'scope': 1,\n",
       "     u'updateDay': 0,\n",
       "     u'userDisabled': False,\n",
       "     u'version': u''}},\n",
       "   u'build': {u'applicationId': u'{ec8030f7-c20a-464f-9b0e-13a3a9e97384}',\n",
       "    u'applicationName': u'Firefox',\n",
       "    u'architecture': u'x86-64',\n",
       "    u'buildId': u'20181004224156',\n",
       "    u'displayVersion': u'64.0a1',\n",
       "    u'platformVersion': u'64.0a1',\n",
       "    u'updaterAvailable': True,\n",
       "    u'vendor': u'Mozilla',\n",
       "    u'version': u'64.0a1',\n",
       "    u'xpcomAbi': u'x86_64-msvc'},\n",
       "   u'experiments': {u'prefflip-webrender-v1-2-1492568': {u'branch': u'disabled',\n",
       "     u'type': u'normandy-exp'},\n",
       "    u'searchCohort': {u'branch': u'nov17-2'}},\n",
       "   u'partner': {u'distributionId': None,\n",
       "    u'distributionVersion': None,\n",
       "    u'distributor': None,\n",
       "    u'distributorChannel': None,\n",
       "    u'partnerId': None,\n",
       "    u'partnerNames': []},\n",
       "   u'profile': {u'creationDate': 17056},\n",
       "   u'settings': {u'addonCompatibilityCheckEnabled': True,\n",
       "    u'attribution': {u'campaign': u'%2528not%2Bset%2529',\n",
       "     u'content': u'%2528not%2Bset%2529',\n",
       "     u'medium': u'referral',\n",
       "     u'source': u'%2528other%2529'},\n",
       "    u'blocklistEnabled': True,\n",
       "    u'defaultSearchEngine': u'google-2018',\n",
       "    u'defaultSearchEngineData': {u'loadPath': u'jar:[app]/omni.ja!/google-2018.xml',\n",
       "     u'name': u'Google',\n",
       "     u'origin': u'default',\n",
       "     u'submissionURL': u'https://www.google.com/search?q=&ie=utf-8&oe=utf-8&client=firefox-b-1'},\n",
       "    u'e10sEnabled': True,\n",
       "    u'e10sMultiProcesses': 4,\n",
       "    u'isDefaultBrowser': False,\n",
       "    u'locale': u'en-US',\n",
       "    u'sandbox': {u'effectiveContentProcessLevel': 5},\n",
       "    u'searchCohort': u'nov17-2',\n",
       "    u'telemetryEnabled': True,\n",
       "    u'update': {u'autoDownload': True,\n",
       "     u'channel': u'nightly',\n",
       "     u'enabled': True},\n",
       "    u'userPrefs': {u'browser.cache.disk.capacity': 737280,\n",
       "     u'browser.search.region': u'US',\n",
       "     u'browser.search.widget.inNavBar': True,\n",
       "     u'browser.shell.checkDefaultBrowser': False,\n",
       "     u'browser.startup.homepage': u'<user-set>',\n",
       "     u'gfx.webrender.all.qualified': False}},\n",
       "   u'system': {u'appleModelId': None,\n",
       "    u'cpu': {u'cores': 4,\n",
       "     u'count': 8,\n",
       "     u'extensions': [u'hasMMX',\n",
       "      u'hasSSE',\n",
       "      u'hasSSE2',\n",
       "      u'hasSSE3',\n",
       "      u'hasSSSE3',\n",
       "      u'hasSSE4_1',\n",
       "      u'hasSSE4_2',\n",
       "      u'hasAVX',\n",
       "      u'hasAVX2',\n",
       "      u'hasAES'],\n",
       "     u'family': 6,\n",
       "     u'l2cacheKB': 256,\n",
       "     u'l3cacheKB': 8192,\n",
       "     u'model': 94,\n",
       "     u'speedMHz': 4008,\n",
       "     u'stepping': 3,\n",
       "     u'vendor': u'GenuineIntel'},\n",
       "    u'gfx': {u'ContentBackend': u'Skia',\n",
       "     u'D2DEnabled': True,\n",
       "     u'DWriteEnabled': True,\n",
       "     u'adapters': [{u'GPUActive': True,\n",
       "       u'RAM': 4096,\n",
       "       u'description': u'NVIDIA GeForce GTX 980',\n",
       "       u'deviceID': u'0x13c0',\n",
       "       u'driver': u'C:\\\\WINDOWS\\\\System32\\\\DriverStore\\\\FileRepository\\\\nv_dispi.inf_amd64_52ac7eb8f32780d5\\\\nvldumdx.dll,C:\\\\WINDOWS\\\\System32\\\\DriverStore\\\\FileRepository\\\\nv_dispi.inf_amd64_52ac7eb8f32780d5\\\\nvldumdx.dll,C:\\\\WINDOWS\\\\System32\\\\DriverStore\\\\FileRepository\\\\nv_dispi.inf_amd64_52ac7eb8f32780d5\\\\nvldumdx.dll,C:\\\\WINDOWS\\\\System32\\\\DriverStore\\\\FileRepository\\\\nv_dispi.inf_amd64_52ac7eb8f32780d5\\\\nvldumdx.dll C:\\\\WINDOWS\\\\System32\\\\DriverStore\\\\FileRepository\\\\nv_dispi.inf_amd64_52ac7eb8f32780d5\\\\nvldumd.dll,C:\\\\WINDOWS\\\\System32\\\\DriverStore\\\\FileRepository\\\\nv_dispi.inf_amd64_52ac7eb8f32780d5\\\\nvldumd.dll,C:\\\\WINDOWS\\\\System32\\\\DriverStore\\\\FileRepository\\\\nv_dispi.inf_amd64_52ac7eb8f32780d5\\\\nvldumd.dll,C:\\\\WINDOWS\\\\System32\\\\DriverStore\\\\FileRepository\\\\nv_dispi.inf_amd64_52ac7eb8f32780d5\\\\nvldumd.dll',\n",
       "       u'driverDate': u'7-30-2018',\n",
       "       u'driverVersion': u'24.21.13.9882',\n",
       "       u'subsysID': u'367c1458',\n",
       "       u'vendorID': u'0x10de'}],\n",
       "     u'features': {u'advancedLayers': {u'status': u'available'},\n",
       "      u'compositor': u'webrender',\n",
       "      u'd2d': {u'status': u'available', u'version': u'1.1'},\n",
       "      u'd3d11': {u'blacklisted': False,\n",
       "       u'status': u'available',\n",
       "       u'textureSharing': True,\n",
       "       u'version': 45312,\n",
       "       u'warp': False},\n",
       "      u'gpuProcess': {u'status': u'available'},\n",
       "      u'webrender': {u'status': u'available'},\n",
       "      u'wrQualified': {u'status': u'available'}},\n",
       "     u'monitors': [{u'pseudoDisplay': False,\n",
       "       u'refreshRate': 60,\n",
       "       u'screenHeight': 2160,\n",
       "       u'screenWidth': 3840}]},\n",
       "    u'hdd': {u'binary': {u'model': u'Hitachi HDS5C3020ALA632',\n",
       "      u'revision': u'ML6OA580'},\n",
       "     u'profile': {u'model': u'Samsung SSD 840 EVO 250GB',\n",
       "      u'revision': u'EXT0DB6Q'},\n",
       "     u'system': {u'model': u'Samsung SSD 840 EVO 250GB',\n",
       "      u'revision': u'EXT0DB6Q'}},\n",
       "    u'isWow64': False,\n",
       "    u'memoryMB': 32716,\n",
       "    u'os': {u'installYear': 2018,\n",
       "     u'locale': u'en-US',\n",
       "     u'name': u'Windows_NT',\n",
       "     u'servicePackMajor': 0,\n",
       "     u'servicePackMinor': 0,\n",
       "     u'version': u'10.0',\n",
       "     u'windowsBuildNumber': 17134,\n",
       "     u'windowsUBR': 228},\n",
       "    u'sec': {u'antispyware': [u'Windows Defender Antivirus'],\n",
       "     u'antivirus': [u'Windows Defender Antivirus'],\n",
       "     u'firewall': [u'Windows Firewall']},\n",
       "    u'virtualMaxMB': 134217728}},\n",
       "  'meta': {u'Date': u'Sat, 20 Oct 2018 01:00:06 GMT',\n",
       "   u'Host': u'incoming.telemetry.mozilla.org',\n",
       "   'Hostname': u'ip-172-31-37-65',\n",
       "   'Timestamp': 1539997209708849920L,\n",
       "   'Type': u'telemetry',\n",
       "   u'appBuildId': u'20181004224156',\n",
       "   u'appName': u'Firefox',\n",
       "   u'appUpdateChannel': u'nightly',\n",
       "   u'appVendor': u'Mozilla',\n",
       "   u'appVersion': u'64.0a1',\n",
       "   u'clientId': u'2491447e-fb44-4c1b-b922-08228b622d32',\n",
       "   u'creationTimestamp': 1.539997206588e+18,\n",
       "   u'docType': u'main',\n",
       "   u'documentId': u'd60d36d4-e16d-4e20-aa75-2bc2569e4e63',\n",
       "   u'geoCity': u'Palm Desert',\n",
       "   u'geoCountry': u'US',\n",
       "   u'geoSubdivision1': u'CA',\n",
       "   u'normalizedChannel': u'nightly',\n",
       "   u'normalizedOSVersion': u'10.0',\n",
       "   u'os': u'Windows_NT',\n",
       "   u'reason': u'environment-change',\n",
       "   u'sampleId': 29.0,\n",
       "   u'sourceName': u'telemetry',\n",
       "   u'sourceVersion': 4.0,\n",
       "   u'submissionDate': u'20181020',\n",
       "   u'telemetryEnabled': True}}]"
      ]
     },
     "execution_count": 11,
     "metadata": {},
     "output_type": "execute_result"
    }
   ],
   "source": [
    "have_cached.filter(lambda p: p[\"environment\"][\"system\"][\"gfx\"][\"features\"][\"compositor\"] == \"webrender\").take(1)"
   ]
  },
  {
   "cell_type": "code",
   "execution_count": null,
   "metadata": {},
   "outputs": [],
   "source": [
    "have_cached.filter(lambda p: interesting_prop(p) == \"webrender\").take(1)"
   ]
  },
  {
   "cell_type": "code",
   "execution_count": null,
   "metadata": {},
   "outputs": [],
   "source": [
    "client_dataset = (\n",
    "    Dataset.from_source('telemetry')\n",
    "    .where(docType='main')\n",
    "    .where(submissionDate=lambda x: int(x) > 20181010)\n",
    "    .where(appUpdateChannel=\"nightly\")\n",
    ")"
   ]
  },
  {
   "cell_type": "code",
   "execution_count": null,
   "metadata": {},
   "outputs": [],
   "source": [
    "client_pings = (\n",
    "    client_dataset\n",
    "    .select(experiments='environment.experiments',\n",
    "            clientId='clientId')\n",
    "    .records(sc, sample=1.0)\n",
    "    .map(lambda p: p[\"clientId\"] == \"2491447e-fb44-4c1b-b922-08228b622d32\")\n",
    ")"
   ]
  },
  {
   "cell_type": "code",
   "execution_count": null,
   "metadata": {},
   "outputs": [],
   "source": [
    "client_pings.count()"
   ]
  },
  {
   "cell_type": "code",
   "execution_count": null,
   "metadata": {},
   "outputs": [],
   "source": []
  }
 ],
 "metadata": {
  "anaconda-cloud": {},
  "kernelspec": {
   "display_name": "Python [default]",
   "language": "python",
   "name": "python2"
  },
  "language_info": {
   "codemirror_mode": {
    "name": "ipython",
    "version": 2
   },
   "file_extension": ".py",
   "mimetype": "text/x-python",
   "name": "python",
   "nbconvert_exporter": "python",
   "pygments_lexer": "ipython2",
   "version": "2.7.12"
  }
 },
 "nbformat": 4,
 "nbformat_minor": 1
}
